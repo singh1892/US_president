{
 "cells": [
  {
   "cell_type": "code",
   "execution_count": 1,
   "metadata": {},
   "outputs": [],
   "source": [
    "import pandas as pd\n",
    "import numpy as np"
   ]
  },
  {
   "cell_type": "code",
   "execution_count": 2,
   "metadata": {},
   "outputs": [],
   "source": [
    "data = pd.read_csv('US Presidential Data.csv',na_values= '#NULL!')"
   ]
  },
  {
   "cell_type": "code",
   "execution_count": 3,
   "metadata": {},
   "outputs": [
    {
     "data": {
      "text/html": [
       "<div>\n",
       "<style scoped>\n",
       "    .dataframe tbody tr th:only-of-type {\n",
       "        vertical-align: middle;\n",
       "    }\n",
       "\n",
       "    .dataframe tbody tr th {\n",
       "        vertical-align: top;\n",
       "    }\n",
       "\n",
       "    .dataframe thead th {\n",
       "        text-align: right;\n",
       "    }\n",
       "</style>\n",
       "<table border=\"1\" class=\"dataframe\">\n",
       "  <thead>\n",
       "    <tr style=\"text-align: right;\">\n",
       "      <th></th>\n",
       "      <th>Win/Loss</th>\n",
       "      <th>Optimism</th>\n",
       "      <th>Pessimism</th>\n",
       "      <th>PastUsed</th>\n",
       "      <th>FutureUsed</th>\n",
       "      <th>PresentUsed</th>\n",
       "      <th>OwnPartyCount</th>\n",
       "      <th>OppPartyCount</th>\n",
       "      <th>NumericContent</th>\n",
       "      <th>Extra</th>\n",
       "      <th>Emoti</th>\n",
       "      <th>Agree</th>\n",
       "      <th>Consc</th>\n",
       "      <th>Openn</th>\n",
       "    </tr>\n",
       "  </thead>\n",
       "  <tbody>\n",
       "    <tr>\n",
       "      <th>0</th>\n",
       "      <td>1</td>\n",
       "      <td>0.104505</td>\n",
       "      <td>0.050450</td>\n",
       "      <td>0.438144</td>\n",
       "      <td>0.494845</td>\n",
       "      <td>0.067010</td>\n",
       "      <td>2</td>\n",
       "      <td>2</td>\n",
       "      <td>0.001878</td>\n",
       "      <td>4.041</td>\n",
       "      <td>4.049</td>\n",
       "      <td>3.469</td>\n",
       "      <td>2.450</td>\n",
       "      <td>2.548</td>\n",
       "    </tr>\n",
       "    <tr>\n",
       "      <th>1</th>\n",
       "      <td>1</td>\n",
       "      <td>0.114575</td>\n",
       "      <td>0.059236</td>\n",
       "      <td>0.291262</td>\n",
       "      <td>0.621359</td>\n",
       "      <td>0.087379</td>\n",
       "      <td>1</td>\n",
       "      <td>4</td>\n",
       "      <td>0.001419</td>\n",
       "      <td>3.446</td>\n",
       "      <td>3.633</td>\n",
       "      <td>3.528</td>\n",
       "      <td>2.402</td>\n",
       "      <td>2.831</td>\n",
       "    </tr>\n",
       "    <tr>\n",
       "      <th>2</th>\n",
       "      <td>1</td>\n",
       "      <td>0.112572</td>\n",
       "      <td>0.049302</td>\n",
       "      <td>0.415966</td>\n",
       "      <td>0.516807</td>\n",
       "      <td>0.067227</td>\n",
       "      <td>1</td>\n",
       "      <td>1</td>\n",
       "      <td>0.002131</td>\n",
       "      <td>3.463</td>\n",
       "      <td>4.039</td>\n",
       "      <td>3.284</td>\n",
       "      <td>2.159</td>\n",
       "      <td>2.465</td>\n",
       "    </tr>\n",
       "    <tr>\n",
       "      <th>3</th>\n",
       "      <td>1</td>\n",
       "      <td>0.107234</td>\n",
       "      <td>0.046320</td>\n",
       "      <td>0.463492</td>\n",
       "      <td>0.466667</td>\n",
       "      <td>0.069841</td>\n",
       "      <td>1</td>\n",
       "      <td>3</td>\n",
       "      <td>0.001872</td>\n",
       "      <td>4.195</td>\n",
       "      <td>4.661</td>\n",
       "      <td>4.007</td>\n",
       "      <td>2.801</td>\n",
       "      <td>3.067</td>\n",
       "    </tr>\n",
       "    <tr>\n",
       "      <th>4</th>\n",
       "      <td>1</td>\n",
       "      <td>0.105826</td>\n",
       "      <td>0.051724</td>\n",
       "      <td>0.334262</td>\n",
       "      <td>0.582173</td>\n",
       "      <td>0.083565</td>\n",
       "      <td>3</td>\n",
       "      <td>4</td>\n",
       "      <td>0.002229</td>\n",
       "      <td>4.658</td>\n",
       "      <td>4.023</td>\n",
       "      <td>3.283</td>\n",
       "      <td>2.415</td>\n",
       "      <td>2.836</td>\n",
       "    </tr>\n",
       "  </tbody>\n",
       "</table>\n",
       "</div>"
      ],
      "text/plain": [
       "   Win/Loss  Optimism  Pessimism  PastUsed  FutureUsed  PresentUsed  \\\n",
       "0         1  0.104505   0.050450  0.438144    0.494845     0.067010   \n",
       "1         1  0.114575   0.059236  0.291262    0.621359     0.087379   \n",
       "2         1  0.112572   0.049302  0.415966    0.516807     0.067227   \n",
       "3         1  0.107234   0.046320  0.463492    0.466667     0.069841   \n",
       "4         1  0.105826   0.051724  0.334262    0.582173     0.083565   \n",
       "\n",
       "   OwnPartyCount  OppPartyCount  NumericContent  Extra  Emoti  Agree  Consc  \\\n",
       "0              2              2        0.001878  4.041  4.049  3.469  2.450   \n",
       "1              1              4        0.001419  3.446  3.633  3.528  2.402   \n",
       "2              1              1        0.002131  3.463  4.039  3.284  2.159   \n",
       "3              1              3        0.001872  4.195  4.661  4.007  2.801   \n",
       "4              3              4        0.002229  4.658  4.023  3.283  2.415   \n",
       "\n",
       "   Openn  \n",
       "0  2.548  \n",
       "1  2.831  \n",
       "2  2.465  \n",
       "3  3.067  \n",
       "4  2.836  "
      ]
     },
     "execution_count": 3,
     "metadata": {},
     "output_type": "execute_result"
    }
   ],
   "source": [
    "data.head()"
   ]
  },
  {
   "cell_type": "code",
   "execution_count": 4,
   "metadata": {},
   "outputs": [
    {
     "data": {
      "text/plain": [
       "(1524, 14)"
      ]
     },
     "execution_count": 4,
     "metadata": {},
     "output_type": "execute_result"
    }
   ],
   "source": [
    "data.shape"
   ]
  },
  {
   "cell_type": "code",
   "execution_count": 5,
   "metadata": {},
   "outputs": [
    {
     "data": {
      "text/plain": [
       "Win/Loss          0\n",
       "Optimism          0\n",
       "Pessimism         0\n",
       "PastUsed          0\n",
       "FutureUsed        0\n",
       "PresentUsed       0\n",
       "OwnPartyCount     0\n",
       "OppPartyCount     0\n",
       "NumericContent    0\n",
       "Extra             0\n",
       "Emoti             0\n",
       "Agree             0\n",
       "Consc             0\n",
       "Openn             0\n",
       "dtype: int64"
      ]
     },
     "execution_count": 5,
     "metadata": {},
     "output_type": "execute_result"
    }
   ],
   "source": [
    "data.isnull().sum()"
   ]
  },
  {
   "cell_type": "code",
   "execution_count": 6,
   "metadata": {},
   "outputs": [
    {
     "name": "stdout",
     "output_type": "stream",
     "text": [
      "<class 'pandas.core.frame.DataFrame'>\n",
      "RangeIndex: 1524 entries, 0 to 1523\n",
      "Data columns (total 14 columns):\n",
      "Win/Loss          1524 non-null int64\n",
      "Optimism          1524 non-null float64\n",
      "Pessimism         1524 non-null float64\n",
      "PastUsed          1524 non-null float64\n",
      "FutureUsed        1524 non-null float64\n",
      "PresentUsed       1524 non-null float64\n",
      "OwnPartyCount     1524 non-null int64\n",
      "OppPartyCount     1524 non-null int64\n",
      "NumericContent    1524 non-null float64\n",
      "Extra             1524 non-null float64\n",
      "Emoti             1524 non-null float64\n",
      "Agree             1524 non-null float64\n",
      "Consc             1524 non-null float64\n",
      "Openn             1524 non-null float64\n",
      "dtypes: float64(11), int64(3)\n",
      "memory usage: 166.8 KB\n"
     ]
    }
   ],
   "source": [
    "data.info()"
   ]
  },
  {
   "cell_type": "code",
   "execution_count": 7,
   "metadata": {},
   "outputs": [],
   "source": [
    "from sklearn.model_selection import train_test_split\n",
    "from sklearn.model_selection import cross_val_score\n",
    "from sklearn.model_selection import cross_val_predict\n",
    "from sklearn import metrics\n",
    "from sklearn import preprocessing"
   ]
  },
  {
   "cell_type": "code",
   "execution_count": 8,
   "metadata": {},
   "outputs": [
    {
     "data": {
      "text/html": [
       "<div>\n",
       "<style scoped>\n",
       "    .dataframe tbody tr th:only-of-type {\n",
       "        vertical-align: middle;\n",
       "    }\n",
       "\n",
       "    .dataframe tbody tr th {\n",
       "        vertical-align: top;\n",
       "    }\n",
       "\n",
       "    .dataframe thead th {\n",
       "        text-align: right;\n",
       "    }\n",
       "</style>\n",
       "<table border=\"1\" class=\"dataframe\">\n",
       "  <thead>\n",
       "    <tr style=\"text-align: right;\">\n",
       "      <th></th>\n",
       "      <th>Win/Loss</th>\n",
       "      <th>Optimism</th>\n",
       "      <th>Pessimism</th>\n",
       "      <th>PastUsed</th>\n",
       "      <th>FutureUsed</th>\n",
       "      <th>PresentUsed</th>\n",
       "      <th>OwnPartyCount</th>\n",
       "      <th>OppPartyCount</th>\n",
       "      <th>NumericContent</th>\n",
       "      <th>Extra</th>\n",
       "      <th>Emoti</th>\n",
       "      <th>Agree</th>\n",
       "      <th>Consc</th>\n",
       "      <th>Openn</th>\n",
       "    </tr>\n",
       "  </thead>\n",
       "  <tbody>\n",
       "    <tr>\n",
       "      <th>Win/Loss</th>\n",
       "      <td>1.000000</td>\n",
       "      <td>-0.099989</td>\n",
       "      <td>-0.315063</td>\n",
       "      <td>-0.014052</td>\n",
       "      <td>0.137116</td>\n",
       "      <td>-0.163193</td>\n",
       "      <td>-0.000436</td>\n",
       "      <td>0.035116</td>\n",
       "      <td>0.260779</td>\n",
       "      <td>-0.170650</td>\n",
       "      <td>0.026373</td>\n",
       "      <td>-0.077795</td>\n",
       "      <td>-0.149473</td>\n",
       "      <td>0.002625</td>\n",
       "    </tr>\n",
       "    <tr>\n",
       "      <th>Optimism</th>\n",
       "      <td>-0.099989</td>\n",
       "      <td>1.000000</td>\n",
       "      <td>0.005374</td>\n",
       "      <td>0.058219</td>\n",
       "      <td>-0.002610</td>\n",
       "      <td>-0.071986</td>\n",
       "      <td>-0.142229</td>\n",
       "      <td>-0.232113</td>\n",
       "      <td>-0.262850</td>\n",
       "      <td>0.314567</td>\n",
       "      <td>-0.135846</td>\n",
       "      <td>0.048235</td>\n",
       "      <td>0.169714</td>\n",
       "      <td>0.233142</td>\n",
       "    </tr>\n",
       "    <tr>\n",
       "      <th>Pessimism</th>\n",
       "      <td>-0.315063</td>\n",
       "      <td>0.005374</td>\n",
       "      <td>1.000000</td>\n",
       "      <td>0.213919</td>\n",
       "      <td>-0.232800</td>\n",
       "      <td>0.030797</td>\n",
       "      <td>-0.024164</td>\n",
       "      <td>0.029013</td>\n",
       "      <td>-0.232936</td>\n",
       "      <td>0.062400</td>\n",
       "      <td>-0.181899</td>\n",
       "      <td>-0.066317</td>\n",
       "      <td>0.091604</td>\n",
       "      <td>0.101775</td>\n",
       "    </tr>\n",
       "    <tr>\n",
       "      <th>PastUsed</th>\n",
       "      <td>-0.014052</td>\n",
       "      <td>0.058219</td>\n",
       "      <td>0.213919</td>\n",
       "      <td>1.000000</td>\n",
       "      <td>-0.708552</td>\n",
       "      <td>-0.358384</td>\n",
       "      <td>0.020915</td>\n",
       "      <td>0.000444</td>\n",
       "      <td>0.063790</td>\n",
       "      <td>-0.252663</td>\n",
       "      <td>0.135045</td>\n",
       "      <td>0.137616</td>\n",
       "      <td>0.041291</td>\n",
       "      <td>0.210437</td>\n",
       "    </tr>\n",
       "    <tr>\n",
       "      <th>FutureUsed</th>\n",
       "      <td>0.137116</td>\n",
       "      <td>-0.002610</td>\n",
       "      <td>-0.232800</td>\n",
       "      <td>-0.708552</td>\n",
       "      <td>1.000000</td>\n",
       "      <td>-0.404851</td>\n",
       "      <td>0.089427</td>\n",
       "      <td>0.044434</td>\n",
       "      <td>-0.041309</td>\n",
       "      <td>0.187374</td>\n",
       "      <td>-0.056415</td>\n",
       "      <td>-0.127796</td>\n",
       "      <td>-0.176720</td>\n",
       "      <td>-0.258545</td>\n",
       "    </tr>\n",
       "    <tr>\n",
       "      <th>PresentUsed</th>\n",
       "      <td>-0.163193</td>\n",
       "      <td>-0.071986</td>\n",
       "      <td>0.030797</td>\n",
       "      <td>-0.358384</td>\n",
       "      <td>-0.404851</td>\n",
       "      <td>1.000000</td>\n",
       "      <td>-0.145411</td>\n",
       "      <td>-0.059360</td>\n",
       "      <td>-0.028007</td>\n",
       "      <td>0.079504</td>\n",
       "      <td>-0.100353</td>\n",
       "      <td>-0.009250</td>\n",
       "      <td>0.180293</td>\n",
       "      <td>0.069369</td>\n",
       "    </tr>\n",
       "    <tr>\n",
       "      <th>OwnPartyCount</th>\n",
       "      <td>-0.000436</td>\n",
       "      <td>-0.142229</td>\n",
       "      <td>-0.024164</td>\n",
       "      <td>0.020915</td>\n",
       "      <td>0.089427</td>\n",
       "      <td>-0.145411</td>\n",
       "      <td>1.000000</td>\n",
       "      <td>0.238260</td>\n",
       "      <td>-0.048123</td>\n",
       "      <td>0.121294</td>\n",
       "      <td>0.183206</td>\n",
       "      <td>0.263316</td>\n",
       "      <td>0.086009</td>\n",
       "      <td>-0.024741</td>\n",
       "    </tr>\n",
       "    <tr>\n",
       "      <th>OppPartyCount</th>\n",
       "      <td>0.035116</td>\n",
       "      <td>-0.232113</td>\n",
       "      <td>0.029013</td>\n",
       "      <td>0.000444</td>\n",
       "      <td>0.044434</td>\n",
       "      <td>-0.059360</td>\n",
       "      <td>0.238260</td>\n",
       "      <td>1.000000</td>\n",
       "      <td>0.071619</td>\n",
       "      <td>0.007510</td>\n",
       "      <td>0.098036</td>\n",
       "      <td>-0.021614</td>\n",
       "      <td>-0.086199</td>\n",
       "      <td>-0.209791</td>\n",
       "    </tr>\n",
       "    <tr>\n",
       "      <th>NumericContent</th>\n",
       "      <td>0.260779</td>\n",
       "      <td>-0.262850</td>\n",
       "      <td>-0.232936</td>\n",
       "      <td>0.063790</td>\n",
       "      <td>-0.041309</td>\n",
       "      <td>-0.028007</td>\n",
       "      <td>-0.048123</td>\n",
       "      <td>0.071619</td>\n",
       "      <td>1.000000</td>\n",
       "      <td>-0.295455</td>\n",
       "      <td>0.056585</td>\n",
       "      <td>-0.024241</td>\n",
       "      <td>-0.061839</td>\n",
       "      <td>-0.015486</td>\n",
       "    </tr>\n",
       "    <tr>\n",
       "      <th>Extra</th>\n",
       "      <td>-0.170650</td>\n",
       "      <td>0.314567</td>\n",
       "      <td>0.062400</td>\n",
       "      <td>-0.252663</td>\n",
       "      <td>0.187374</td>\n",
       "      <td>0.079504</td>\n",
       "      <td>0.121294</td>\n",
       "      <td>0.007510</td>\n",
       "      <td>-0.295455</td>\n",
       "      <td>1.000000</td>\n",
       "      <td>0.136860</td>\n",
       "      <td>-0.057483</td>\n",
       "      <td>0.099440</td>\n",
       "      <td>0.020801</td>\n",
       "    </tr>\n",
       "    <tr>\n",
       "      <th>Emoti</th>\n",
       "      <td>0.026373</td>\n",
       "      <td>-0.135846</td>\n",
       "      <td>-0.181899</td>\n",
       "      <td>0.135045</td>\n",
       "      <td>-0.056415</td>\n",
       "      <td>-0.100353</td>\n",
       "      <td>0.183206</td>\n",
       "      <td>0.098036</td>\n",
       "      <td>0.056585</td>\n",
       "      <td>0.136860</td>\n",
       "      <td>1.000000</td>\n",
       "      <td>0.514629</td>\n",
       "      <td>-0.055763</td>\n",
       "      <td>-0.115764</td>\n",
       "    </tr>\n",
       "    <tr>\n",
       "      <th>Agree</th>\n",
       "      <td>-0.077795</td>\n",
       "      <td>0.048235</td>\n",
       "      <td>-0.066317</td>\n",
       "      <td>0.137616</td>\n",
       "      <td>-0.127796</td>\n",
       "      <td>-0.009250</td>\n",
       "      <td>0.263316</td>\n",
       "      <td>-0.021614</td>\n",
       "      <td>-0.024241</td>\n",
       "      <td>-0.057483</td>\n",
       "      <td>0.514629</td>\n",
       "      <td>1.000000</td>\n",
       "      <td>0.605521</td>\n",
       "      <td>0.416968</td>\n",
       "    </tr>\n",
       "    <tr>\n",
       "      <th>Consc</th>\n",
       "      <td>-0.149473</td>\n",
       "      <td>0.169714</td>\n",
       "      <td>0.091604</td>\n",
       "      <td>0.041291</td>\n",
       "      <td>-0.176720</td>\n",
       "      <td>0.180293</td>\n",
       "      <td>0.086009</td>\n",
       "      <td>-0.086199</td>\n",
       "      <td>-0.061839</td>\n",
       "      <td>0.099440</td>\n",
       "      <td>-0.055763</td>\n",
       "      <td>0.605521</td>\n",
       "      <td>1.000000</td>\n",
       "      <td>0.690907</td>\n",
       "    </tr>\n",
       "    <tr>\n",
       "      <th>Openn</th>\n",
       "      <td>0.002625</td>\n",
       "      <td>0.233142</td>\n",
       "      <td>0.101775</td>\n",
       "      <td>0.210437</td>\n",
       "      <td>-0.258545</td>\n",
       "      <td>0.069369</td>\n",
       "      <td>-0.024741</td>\n",
       "      <td>-0.209791</td>\n",
       "      <td>-0.015486</td>\n",
       "      <td>0.020801</td>\n",
       "      <td>-0.115764</td>\n",
       "      <td>0.416968</td>\n",
       "      <td>0.690907</td>\n",
       "      <td>1.000000</td>\n",
       "    </tr>\n",
       "  </tbody>\n",
       "</table>\n",
       "</div>"
      ],
      "text/plain": [
       "                Win/Loss  Optimism  Pessimism  PastUsed  FutureUsed  \\\n",
       "Win/Loss        1.000000 -0.099989  -0.315063 -0.014052    0.137116   \n",
       "Optimism       -0.099989  1.000000   0.005374  0.058219   -0.002610   \n",
       "Pessimism      -0.315063  0.005374   1.000000  0.213919   -0.232800   \n",
       "PastUsed       -0.014052  0.058219   0.213919  1.000000   -0.708552   \n",
       "FutureUsed      0.137116 -0.002610  -0.232800 -0.708552    1.000000   \n",
       "PresentUsed    -0.163193 -0.071986   0.030797 -0.358384   -0.404851   \n",
       "OwnPartyCount  -0.000436 -0.142229  -0.024164  0.020915    0.089427   \n",
       "OppPartyCount   0.035116 -0.232113   0.029013  0.000444    0.044434   \n",
       "NumericContent  0.260779 -0.262850  -0.232936  0.063790   -0.041309   \n",
       "Extra          -0.170650  0.314567   0.062400 -0.252663    0.187374   \n",
       "Emoti           0.026373 -0.135846  -0.181899  0.135045   -0.056415   \n",
       "Agree          -0.077795  0.048235  -0.066317  0.137616   -0.127796   \n",
       "Consc          -0.149473  0.169714   0.091604  0.041291   -0.176720   \n",
       "Openn           0.002625  0.233142   0.101775  0.210437   -0.258545   \n",
       "\n",
       "                PresentUsed  OwnPartyCount  OppPartyCount  NumericContent  \\\n",
       "Win/Loss          -0.163193      -0.000436       0.035116        0.260779   \n",
       "Optimism          -0.071986      -0.142229      -0.232113       -0.262850   \n",
       "Pessimism          0.030797      -0.024164       0.029013       -0.232936   \n",
       "PastUsed          -0.358384       0.020915       0.000444        0.063790   \n",
       "FutureUsed        -0.404851       0.089427       0.044434       -0.041309   \n",
       "PresentUsed        1.000000      -0.145411      -0.059360       -0.028007   \n",
       "OwnPartyCount     -0.145411       1.000000       0.238260       -0.048123   \n",
       "OppPartyCount     -0.059360       0.238260       1.000000        0.071619   \n",
       "NumericContent    -0.028007      -0.048123       0.071619        1.000000   \n",
       "Extra              0.079504       0.121294       0.007510       -0.295455   \n",
       "Emoti             -0.100353       0.183206       0.098036        0.056585   \n",
       "Agree             -0.009250       0.263316      -0.021614       -0.024241   \n",
       "Consc              0.180293       0.086009      -0.086199       -0.061839   \n",
       "Openn              0.069369      -0.024741      -0.209791       -0.015486   \n",
       "\n",
       "                   Extra     Emoti     Agree     Consc     Openn  \n",
       "Win/Loss       -0.170650  0.026373 -0.077795 -0.149473  0.002625  \n",
       "Optimism        0.314567 -0.135846  0.048235  0.169714  0.233142  \n",
       "Pessimism       0.062400 -0.181899 -0.066317  0.091604  0.101775  \n",
       "PastUsed       -0.252663  0.135045  0.137616  0.041291  0.210437  \n",
       "FutureUsed      0.187374 -0.056415 -0.127796 -0.176720 -0.258545  \n",
       "PresentUsed     0.079504 -0.100353 -0.009250  0.180293  0.069369  \n",
       "OwnPartyCount   0.121294  0.183206  0.263316  0.086009 -0.024741  \n",
       "OppPartyCount   0.007510  0.098036 -0.021614 -0.086199 -0.209791  \n",
       "NumericContent -0.295455  0.056585 -0.024241 -0.061839 -0.015486  \n",
       "Extra           1.000000  0.136860 -0.057483  0.099440  0.020801  \n",
       "Emoti           0.136860  1.000000  0.514629 -0.055763 -0.115764  \n",
       "Agree          -0.057483  0.514629  1.000000  0.605521  0.416968  \n",
       "Consc           0.099440 -0.055763  0.605521  1.000000  0.690907  \n",
       "Openn           0.020801 -0.115764  0.416968  0.690907  1.000000  "
      ]
     },
     "execution_count": 8,
     "metadata": {},
     "output_type": "execute_result"
    }
   ],
   "source": [
    "data.corr()"
   ]
  },
  {
   "cell_type": "code",
   "execution_count": 9,
   "metadata": {},
   "outputs": [],
   "source": [
    "from sklearn.model_selection import train_test_split, StratifiedKFold\n",
    "from sklearn.neighbors import KNeighborsClassifier"
   ]
  },
  {
   "cell_type": "code",
   "execution_count": 10,
   "metadata": {},
   "outputs": [],
   "source": [
    "y = data['Win/Loss']\n",
    "data.drop(['Win/Loss'],axis=1, inplace=True)"
   ]
  },
  {
   "cell_type": "code",
   "execution_count": 11,
   "metadata": {},
   "outputs": [],
   "source": [
    "X_train, X_test, y_train, y_test = train_test_split(data.values,y,test_size=0.2, random_state=17)"
   ]
  },
  {
   "cell_type": "code",
   "execution_count": 12,
   "metadata": {},
   "outputs": [
    {
     "data": {
      "text/html": [
       "<div>\n",
       "<style scoped>\n",
       "    .dataframe tbody tr th:only-of-type {\n",
       "        vertical-align: middle;\n",
       "    }\n",
       "\n",
       "    .dataframe tbody tr th {\n",
       "        vertical-align: top;\n",
       "    }\n",
       "\n",
       "    .dataframe thead th {\n",
       "        text-align: right;\n",
       "    }\n",
       "</style>\n",
       "<table border=\"1\" class=\"dataframe\">\n",
       "  <thead>\n",
       "    <tr style=\"text-align: right;\">\n",
       "      <th></th>\n",
       "      <th>Optimism</th>\n",
       "      <th>Pessimism</th>\n",
       "      <th>PastUsed</th>\n",
       "      <th>FutureUsed</th>\n",
       "      <th>PresentUsed</th>\n",
       "      <th>OwnPartyCount</th>\n",
       "      <th>OppPartyCount</th>\n",
       "      <th>NumericContent</th>\n",
       "      <th>Extra</th>\n",
       "      <th>Emoti</th>\n",
       "      <th>Agree</th>\n",
       "      <th>Consc</th>\n",
       "      <th>Openn</th>\n",
       "    </tr>\n",
       "  </thead>\n",
       "  <tbody>\n",
       "    <tr>\n",
       "      <th>0</th>\n",
       "      <td>0.104505</td>\n",
       "      <td>0.050450</td>\n",
       "      <td>0.438144</td>\n",
       "      <td>0.494845</td>\n",
       "      <td>0.067010</td>\n",
       "      <td>2</td>\n",
       "      <td>2</td>\n",
       "      <td>0.001878</td>\n",
       "      <td>4.041</td>\n",
       "      <td>4.049</td>\n",
       "      <td>3.469</td>\n",
       "      <td>2.450</td>\n",
       "      <td>2.548</td>\n",
       "    </tr>\n",
       "    <tr>\n",
       "      <th>1</th>\n",
       "      <td>0.114575</td>\n",
       "      <td>0.059236</td>\n",
       "      <td>0.291262</td>\n",
       "      <td>0.621359</td>\n",
       "      <td>0.087379</td>\n",
       "      <td>1</td>\n",
       "      <td>4</td>\n",
       "      <td>0.001419</td>\n",
       "      <td>3.446</td>\n",
       "      <td>3.633</td>\n",
       "      <td>3.528</td>\n",
       "      <td>2.402</td>\n",
       "      <td>2.831</td>\n",
       "    </tr>\n",
       "    <tr>\n",
       "      <th>2</th>\n",
       "      <td>0.112572</td>\n",
       "      <td>0.049302</td>\n",
       "      <td>0.415966</td>\n",
       "      <td>0.516807</td>\n",
       "      <td>0.067227</td>\n",
       "      <td>1</td>\n",
       "      <td>1</td>\n",
       "      <td>0.002131</td>\n",
       "      <td>3.463</td>\n",
       "      <td>4.039</td>\n",
       "      <td>3.284</td>\n",
       "      <td>2.159</td>\n",
       "      <td>2.465</td>\n",
       "    </tr>\n",
       "    <tr>\n",
       "      <th>3</th>\n",
       "      <td>0.107234</td>\n",
       "      <td>0.046320</td>\n",
       "      <td>0.463492</td>\n",
       "      <td>0.466667</td>\n",
       "      <td>0.069841</td>\n",
       "      <td>1</td>\n",
       "      <td>3</td>\n",
       "      <td>0.001872</td>\n",
       "      <td>4.195</td>\n",
       "      <td>4.661</td>\n",
       "      <td>4.007</td>\n",
       "      <td>2.801</td>\n",
       "      <td>3.067</td>\n",
       "    </tr>\n",
       "    <tr>\n",
       "      <th>4</th>\n",
       "      <td>0.105826</td>\n",
       "      <td>0.051724</td>\n",
       "      <td>0.334262</td>\n",
       "      <td>0.582173</td>\n",
       "      <td>0.083565</td>\n",
       "      <td>3</td>\n",
       "      <td>4</td>\n",
       "      <td>0.002229</td>\n",
       "      <td>4.658</td>\n",
       "      <td>4.023</td>\n",
       "      <td>3.283</td>\n",
       "      <td>2.415</td>\n",
       "      <td>2.836</td>\n",
       "    </tr>\n",
       "  </tbody>\n",
       "</table>\n",
       "</div>"
      ],
      "text/plain": [
       "   Optimism  Pessimism  PastUsed  FutureUsed  PresentUsed  OwnPartyCount  \\\n",
       "0  0.104505   0.050450  0.438144    0.494845     0.067010              2   \n",
       "1  0.114575   0.059236  0.291262    0.621359     0.087379              1   \n",
       "2  0.112572   0.049302  0.415966    0.516807     0.067227              1   \n",
       "3  0.107234   0.046320  0.463492    0.466667     0.069841              1   \n",
       "4  0.105826   0.051724  0.334262    0.582173     0.083565              3   \n",
       "\n",
       "   OppPartyCount  NumericContent  Extra  Emoti  Agree  Consc  Openn  \n",
       "0              2        0.001878  4.041  4.049  3.469  2.450  2.548  \n",
       "1              4        0.001419  3.446  3.633  3.528  2.402  2.831  \n",
       "2              1        0.002131  3.463  4.039  3.284  2.159  2.465  \n",
       "3              3        0.001872  4.195  4.661  4.007  2.801  3.067  \n",
       "4              4        0.002229  4.658  4.023  3.283  2.415  2.836  "
      ]
     },
     "execution_count": 12,
     "metadata": {},
     "output_type": "execute_result"
    }
   ],
   "source": [
    "data.head()"
   ]
  },
  {
   "cell_type": "code",
   "execution_count": 13,
   "metadata": {},
   "outputs": [],
   "source": [
    "knn = KNeighborsClassifier(n_neighbors=10)"
   ]
  },
  {
   "cell_type": "code",
   "execution_count": 14,
   "metadata": {},
   "outputs": [
    {
     "data": {
      "text/plain": [
       "KNeighborsClassifier(algorithm='auto', leaf_size=30, metric='minkowski',\n",
       "           metric_params=None, n_jobs=1, n_neighbors=10, p=2,\n",
       "           weights='uniform')"
      ]
     },
     "execution_count": 14,
     "metadata": {},
     "output_type": "execute_result"
    }
   ],
   "source": [
    "knn.fit(X_train,y_train)"
   ]
  },
  {
   "cell_type": "code",
   "execution_count": 15,
   "metadata": {},
   "outputs": [],
   "source": [
    "from sklearn.metrics import accuracy_score"
   ]
  },
  {
   "cell_type": "code",
   "execution_count": 16,
   "metadata": {},
   "outputs": [
    {
     "data": {
      "text/plain": [
       "0.7344262295081967"
      ]
     },
     "execution_count": 16,
     "metadata": {},
     "output_type": "execute_result"
    }
   ],
   "source": [
    "knn_pred = knn.predict(X_test)\n",
    "accuracy_score(y_test,knn_pred)"
   ]
  },
  {
   "cell_type": "code",
   "execution_count": 17,
   "metadata": {},
   "outputs": [],
   "source": [
    "ss=[]\n",
    "for k in range(1,100):\n",
    "    knn = KNeighborsClassifier(n_neighbors=k)\n",
    "    knn.fit(X_train,y_train)\n",
    "    knn_pred = knn.predict(X_test)\n",
    "    ss.append(accuracy_score(y_test,knn_pred))"
   ]
  },
  {
   "cell_type": "code",
   "execution_count": 18,
   "metadata": {},
   "outputs": [
    {
     "data": {
      "text/plain": [
       "[0.6983606557377049,\n",
       " 0.6983606557377049,\n",
       " 0.6852459016393443,\n",
       " 0.7016393442622951,\n",
       " 0.7049180327868853,\n",
       " 0.7114754098360656,\n",
       " 0.7147540983606557,\n",
       " 0.7147540983606557,\n",
       " 0.7245901639344262,\n",
       " 0.7344262295081967,\n",
       " 0.7114754098360656,\n",
       " 0.6983606557377049,\n",
       " 0.7147540983606557,\n",
       " 0.7180327868852459,\n",
       " 0.7049180327868853,\n",
       " 0.7081967213114754,\n",
       " 0.7081967213114754,\n",
       " 0.6983606557377049,\n",
       " 0.6950819672131148,\n",
       " 0.7049180327868853,\n",
       " 0.7016393442622951,\n",
       " 0.6950819672131148,\n",
       " 0.6983606557377049,\n",
       " 0.6950819672131148,\n",
       " 0.7016393442622951,\n",
       " 0.7049180327868853,\n",
       " 0.7049180327868853,\n",
       " 0.7016393442622951,\n",
       " 0.6950819672131148,\n",
       " 0.6786885245901639,\n",
       " 0.6918032786885245,\n",
       " 0.6819672131147541,\n",
       " 0.6786885245901639,\n",
       " 0.6852459016393443,\n",
       " 0.6852459016393443,\n",
       " 0.6819672131147541,\n",
       " 0.6819672131147541,\n",
       " 0.6819672131147541,\n",
       " 0.6786885245901639,\n",
       " 0.6754098360655738,\n",
       " 0.6754098360655738,\n",
       " 0.6819672131147541,\n",
       " 0.6786885245901639,\n",
       " 0.6721311475409836,\n",
       " 0.6852459016393443,\n",
       " 0.6655737704918033,\n",
       " 0.6819672131147541,\n",
       " 0.6754098360655738,\n",
       " 0.6754098360655738,\n",
       " 0.6852459016393443,\n",
       " 0.6885245901639344,\n",
       " 0.6918032786885245,\n",
       " 0.6950819672131148,\n",
       " 0.6885245901639344,\n",
       " 0.7016393442622951,\n",
       " 0.7016393442622951,\n",
       " 0.6983606557377049,\n",
       " 0.6983606557377049,\n",
       " 0.6819672131147541,\n",
       " 0.7016393442622951,\n",
       " 0.6819672131147541,\n",
       " 0.6819672131147541,\n",
       " 0.6754098360655738,\n",
       " 0.6950819672131148,\n",
       " 0.6852459016393443,\n",
       " 0.6918032786885245,\n",
       " 0.6852459016393443,\n",
       " 0.6819672131147541,\n",
       " 0.6852459016393443,\n",
       " 0.6885245901639344,\n",
       " 0.6885245901639344,\n",
       " 0.6885245901639344,\n",
       " 0.6819672131147541,\n",
       " 0.6786885245901639,\n",
       " 0.6754098360655738,\n",
       " 0.6786885245901639,\n",
       " 0.6786885245901639,\n",
       " 0.6819672131147541,\n",
       " 0.6786885245901639,\n",
       " 0.6885245901639344,\n",
       " 0.6754098360655738,\n",
       " 0.6852459016393443,\n",
       " 0.6721311475409836,\n",
       " 0.6819672131147541,\n",
       " 0.6786885245901639,\n",
       " 0.6786885245901639,\n",
       " 0.6721311475409836,\n",
       " 0.6721311475409836,\n",
       " 0.6721311475409836,\n",
       " 0.6786885245901639,\n",
       " 0.6721311475409836,\n",
       " 0.6754098360655738,\n",
       " 0.6754098360655738,\n",
       " 0.6721311475409836,\n",
       " 0.6655737704918033,\n",
       " 0.6655737704918033,\n",
       " 0.6688524590163935,\n",
       " 0.6721311475409836,\n",
       " 0.6655737704918033]"
      ]
     },
     "execution_count": 18,
     "metadata": {},
     "output_type": "execute_result"
    }
   ],
   "source": [
    "ss"
   ]
  },
  {
   "cell_type": "code",
   "execution_count": 19,
   "metadata": {},
   "outputs": [],
   "source": [
    "import matplotlib.pyplot as plt"
   ]
  },
  {
   "cell_type": "code",
   "execution_count": 20,
   "metadata": {},
   "outputs": [
    {
     "data": {
      "text/plain": [
       "[<matplotlib.lines.Line2D at 0x1aa6e226c18>]"
      ]
     },
     "execution_count": 20,
     "metadata": {},
     "output_type": "execute_result"
    },
    {
     "data": {
      "image/png": "[encoded data removed]",
      "text/plain": [
       "<Figure size 432x288 with 1 Axes>"
      ]
     },
     "metadata": {},
     "output_type": "display_data"
    }
   ],
   "source": [
    "plt.plot(list(range(1,100)),ss)"
   ]
  },
  {
   "cell_type": "code",
   "execution_count": 21,
   "metadata": {},
   "outputs": [
    {
     "data": {
      "text/plain": [
       "Optimism            0.001272\n",
       "Pessimism           0.000621\n",
       "PastUsed            0.016649\n",
       "FutureUsed          0.017355\n",
       "PresentUsed         0.009916\n",
       "OwnPartyCount     110.326431\n",
       "OppPartyCount      24.108049\n",
       "NumericContent      0.000003\n",
       "Extra               1.105987\n",
       "Emoti               0.626072\n",
       "Agree               0.486049\n",
       "Consc               1.052580\n",
       "Openn               0.886372\n",
       "dtype: float64"
      ]
     },
     "execution_count": 21,
     "metadata": {},
     "output_type": "execute_result"
    }
   ],
   "source": [
    "data.var()"
   ]
  },
  {
   "cell_type": "code",
   "execution_count": 22,
   "metadata": {},
   "outputs": [],
   "source": [
    "from sklearn.preprocessing import StandardScaler"
   ]
  },
  {
   "cell_type": "code",
   "execution_count": 23,
   "metadata": {},
   "outputs": [],
   "source": [
    "std_scale = StandardScaler()"
   ]
  },
  {
   "cell_type": "code",
   "execution_count": 24,
   "metadata": {},
   "outputs": [],
   "source": [
    "data_scaled = std_scale.fit_transform(X= data)\n",
    "data_scaled_df = pd.DataFrame(data_scaled)"
   ]
  },
  {
   "cell_type": "code",
   "execution_count": 25,
   "metadata": {},
   "outputs": [],
   "source": [
    "X_train1, X_test1, y_train1, y_test1 = train_test_split(data_scaled_df.values,y,test_size=0.2, random_state=17)"
   ]
  },
  {
   "cell_type": "code",
   "execution_count": 26,
   "metadata": {},
   "outputs": [],
   "source": [
    "ss1=[]\n",
    "for k1 in range(1,100):\n",
    "    knn = KNeighborsClassifier(n_neighbors=k1)\n",
    "    knn.fit(X_train1,y_train1)\n",
    "    knn_pred = knn.predict(X_test1)\n",
    "    ss1.append(accuracy_score(y_test1,knn_pred))"
   ]
  },
  {
   "cell_type": "code",
   "execution_count": null,
   "metadata": {},
   "outputs": [],
   "source": []
  },
  {
   "cell_type": "code",
   "execution_count": 27,
   "metadata": {},
   "outputs": [
    {
     "data": {
      "text/plain": [
       "[<matplotlib.lines.Line2D at 0x1aa6f28f898>]"
      ]
     },
     "execution_count": 27,
     "metadata": {},
     "output_type": "execute_result"
    },
    {
     "data": {
      "image/png": "[encoded data removed]",
      "text/plain": [
       "<Figure size 432x288 with 1 Axes>"
      ]
     },
     "metadata": {},
     "output_type": "display_data"
    }
   ],
   "source": [
    "plt.plot(list(range(1,100)),ss1)"
   ]
  },
  {
   "cell_type": "code",
   "execution_count": 44,
   "metadata": {},
   "outputs": [],
   "source": [
    "knn2 = KNeighborsClassifier(n_neighbors=22)\n",
    "knn2.fit(X_train1, y_train1)\n",
    "y_pred = knn2.predict(X_test1)\n"
   ]
  },
  {
   "cell_type": "code",
   "execution_count": 45,
   "metadata": {},
   "outputs": [],
   "source": [
    "y_true = knn2.predict(X_test1)\n"
   ]
  },
  {
   "cell_type": "code",
   "execution_count": 46,
   "metadata": {},
   "outputs": [],
   "source": [
    "from sklearn.metrics import classification_report"
   ]
  },
  {
   "cell_type": "code",
   "execution_count": 47,
   "metadata": {},
   "outputs": [
    {
     "name": "stdout",
     "output_type": "stream",
     "text": [
      "             precision    recall  f1-score   support\n",
      "\n",
      "          0       0.69      0.84      0.75       104\n",
      "          1       0.90      0.80      0.85       201\n",
      "\n",
      "avg / total       0.83      0.81      0.82       305\n",
      "\n"
     ]
    }
   ],
   "source": [
    "\n",
    "print (classification_report(y_true, y_test1) )"
   ]
  },
  {
   "cell_type": "code",
   "execution_count": 51,
   "metadata": {},
   "outputs": [],
   "source": [
    "knn = KNeighborsClassifier(n_neighbors=16)\n",
    "knn2.fit(X_train, y_train)\n",
    "y_pred = knn2.predict(X_test)"
   ]
  },
  {
   "cell_type": "code",
   "execution_count": 52,
   "metadata": {},
   "outputs": [],
   "source": [
    "y_true1 = knn2.predict(X_test)"
   ]
  },
  {
   "cell_type": "code",
   "execution_count": 54,
   "metadata": {},
   "outputs": [
    {
     "name": "stdout",
     "output_type": "stream",
     "text": [
      "             precision    recall  f1-score   support\n",
      "\n",
      "          0       0.68      0.50      0.58       127\n",
      "          1       0.70      0.83      0.76       178\n",
      "\n",
      "avg / total       0.69      0.70      0.69       305\n",
      "\n"
     ]
    }
   ],
   "source": [
    "\n",
    "print (classification_report(y_test,y_true1 ) )"
   ]
  },
  {
   "cell_type": "code",
   "execution_count": null,
   "metadata": {},
   "outputs": [],
   "source": []
  }
 ],
 "metadata": {
  "kernelspec": {
   "display_name": "Python 3",
   "language": "python",
   "name": "python3"
  },
  "language_info": {
   "codemirror_mode": {
    "name": "ipython",
    "version": 3
   },
   "file_extension": ".py",
   "mimetype": "text/x-python",
   "name": "python",
   "nbconvert_exporter": "python",
   "pygments_lexer": "ipython3",
   "version": "3.6.5"
  }
 },
 "nbformat": 4,
 "nbformat_minor": 2
}
